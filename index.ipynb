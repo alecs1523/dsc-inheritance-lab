{
  "cells": [
    {
      "cell_type": "markdown",
      "metadata": {
        "id": "iwkckRUcJ5II"
      },
      "source": [
        "# Inheritance - Lab\n",
        "\n",
        "## Introduction\n",
        "\n",
        "In this lab, you'll use what you've learned about inheritance to model a zoo using superclasses, subclasses, and maybe even an abstract superclass!\n",
        "\n",
        "## Objectives\n",
        "\n",
        "In this lab you will:\n",
        "\n",
        "- Create a domain model using OOP\n",
        "- Use inheritance to write nonredundant code\n",
        "\n",
        "## Modeling a Zoo\n",
        "\n",
        "Consider the following scenario:  You've been hired by a zookeeper to build a program that keeps track of all the animals in the zoo.  This is a great opportunity to make use of inheritance and object-oriented programming!\n",
        "\n",
        "## Creating an Abstract Superclass\n",
        "\n",
        "Start by creating an abstract superclass, `Animal()`.  When your program is complete, all subclasses of `Animal()` will have the following attributes:\n",
        "\n",
        "* `name`, which is a string set at instantation time\n",
        "* `size`, which can be `'small'`, `'medium'`, `'large'`, or `'enormous'`\n",
        "* `weight`, which is an integer set at instantiation time\n",
        "* `species`, a string that tells us the species of the animal\n",
        "* `food_type`, which can be `'herbivore'`, `'carnivore'`, or `'omnivore'`\n",
        "* `nocturnal`, a boolean value that is `True` if the animal sleeps during the day, otherwise `False`\n",
        "\n",
        "They'll also have the following behaviors:\n",
        "\n",
        "* `sleep`, which prints a string saying if the animal sleeps during day or night\n",
        "* `eat`, which takes in the string `'plants'` or `'meat'`, and returns `'{animal name} the {animal species} thinks {food} is yummy!'` or `'I don't eat this!'` based on the animal's `food_type` attribute\n",
        "\n",
        "In the cell below, create an abstract superclass that meets these specifications.\n",
        "\n",
        "**_NOTE:_** For some attributes in an abstract superclass such as `size`, the initial value doesn't matter -- just make sure that you remember to override it in each of the subclasses!"
      ]
    },
    {
      "cell_type": "code",
      "execution_count": 92,
      "metadata": {
        "id": "Qzz1nbmUJ5IP"
      },
      "outputs": [],
      "source": [
        "class Animal(object):\n",
        "    def __init__(self,name,weight):\n",
        "      self.name = name\n",
        "      self.size = None\n",
        "      self.weight = weight\n",
        "      self.species = None\n",
        "      self.food_type= None\n",
        "      self.nocturnal = None\n",
        "\n",
        "    def sleep(self):\n",
        "      if self.nocturnal:\n",
        "        print(f' {self.name} I sleep during the day')\n",
        "      else:\n",
        "        print(f' {self.name} I sleep at night like errbody else')\n",
        "\n",
        "    def eat(self,food):\n",
        "      if self.food_type == 'omnivore':\n",
        "        print(f'{self.name} the {self.species} thinks {food} is yummy!')\n",
        "      elif (self.food_type == \"carnivore\" and food == 'meat') or (self.food_type == \"herbivore\" and food == 'plants'):\n",
        "        print(f'{self.name} the {self.species} thinks {food} is yummy!')\n",
        "      else:\n",
        "        print('i dont eat this sheeet')\n",
        "\n",
        "\n",
        "\n",
        "\n"
      ]
    },
    {
      "cell_type": "markdown",
      "metadata": {
        "id": "OvK4D0bfJ5IR"
      },
      "source": [
        "Great! Now that you have our abstract superclass, you can begin building out the specific animal classes.\n",
        "\n",
        "In the cell below, complete the `Elephant()` class.  This class should:\n",
        "\n",
        "* subclass `Animal`\n",
        "* have a species of `'elephant'`\n",
        "* have a size of `'enormous'`\n",
        "* have a food type of `'herbivore'`\n",
        "* set nocturnal to `False`\n",
        "\n",
        "**_Hint:_** Remember to make use of `.super()` during initialization, and be sure to pass in the values it expects at instantiation time!"
      ]
    },
    {
      "cell_type": "code",
      "execution_count": 93,
      "metadata": {
        "id": "vbAd7lGjJ5IS"
      },
      "outputs": [],
      "source": [
        "class Elephant(Animal):\n",
        "   def __init__(self,name,weight):\n",
        "    super().__init__(name,weight)\n",
        "    self.species = 'elephant'\n",
        "    self.size = 'enormous'\n",
        "    self.food_type = 'herbivore'\n",
        "    self.nocturnal = False"
      ]
    },
    {
      "cell_type": "markdown",
      "metadata": {
        "id": "OLz-J3yIJ5IV"
      },
      "source": [
        "Great! Now, in the cell below, create a `Tiger()` class.  This class should:\n",
        "\n",
        "* subclass `Animal`\n",
        "* have a species of `'tiger'`\n",
        "* have a size of `'large'`\n",
        "* have a food type of `'carnivore'`\n",
        "* set nocturnal to `True`"
      ]
    },
    {
      "cell_type": "code",
      "execution_count": 94,
      "metadata": {
        "id": "WLxzSMvNJ5IW"
      },
      "outputs": [],
      "source": [
        "class Tiger(Animal):\n",
        "   def __init__(self,name,weight):\n",
        "    super().__init__(name,weight)\n",
        "    self.species = 'tiger'\n",
        "    self.size = 'large'\n",
        "    self.food_type = 'carnivore'\n",
        "    self.nocturnal = True"
      ]
    },
    {
      "cell_type": "markdown",
      "metadata": {
        "id": "-GcehGRZJ5IX"
      },
      "source": [
        "Great! Two more classes to go. In the cell below, create a `Raccoon()` class. This class should:\n",
        "\n",
        "* subclass `Animal`\n",
        "* have a species of `raccoon`\n",
        "* have a size of `'small'`\n",
        "* have a food type of `'omnivore'`\n",
        "* set nocturnal to `True`"
      ]
    },
    {
      "cell_type": "code",
      "execution_count": 95,
      "metadata": {
        "id": "Lz1LI_q4J5IX"
      },
      "outputs": [],
      "source": [
        "class Raccoon(Animal):\n",
        "   def __init__(self,name,weight):\n",
        "    super().__init__(name,weight)\n",
        "    self.species = 'raccoon'\n",
        "    self.size = 'small'\n",
        "    self.food_type = 'omnivore'\n",
        "    self.nocturnal = True"
      ]
    },
    {
      "cell_type": "markdown",
      "metadata": {
        "id": "uhcsKu2EJ5IY"
      },
      "source": [
        "Finally, create a `Gorilla()` class. This class should:\n",
        "\n",
        "* subclass `Animal`\n",
        "* have a species of `gorilla`\n",
        "* have a size of `'large'`\n",
        "* have a food type of `'herbivore'`\n",
        "* set nocturnal to `False`"
      ]
    },
    {
      "cell_type": "code",
      "execution_count": 96,
      "metadata": {
        "id": "rkItFbJXJ5IY"
      },
      "outputs": [],
      "source": [
        "class Gorilla(Animal):\n",
        "   def __init__(self,name,weight):\n",
        "    super().__init__(name,weight)\n",
        "    self.species = 'gorilla'\n",
        "    self.size = 'large'\n",
        "    self.food_type = 'herbivore'\n",
        "    self.nocturnal = False"
      ]
    },
    {
      "cell_type": "markdown",
      "metadata": {
        "id": "7TRtADXJJ5IZ"
      },
      "source": [
        "## Using Our Objects\n",
        "\n",
        "Now it's time to populate the zoo! To ease the creation of animal instances, create a function `add_animal_to_zoo()`.\n",
        "\n",
        "This function should take in the following parameters:\n",
        "\n",
        "* `zoo`, an array representing the current state of the zoo\n",
        "* `animal_type`, a string.  Can be `'Gorilla'`, `'Raccoon'`, `'Tiger'`, or `'Elephant'`\n",
        "* `name`, the name of the animal being created\n",
        "* `weight`, the weight of the animal being created\n",
        "\n",
        "The function should then:\n",
        "\n",
        "* use `animal_type` to determine which object to create\n",
        "* Create an instance of that animal, passing in the `name` and `weight`\n",
        "* Append the newly created animal to `zoo`\n",
        "* Return `zoo`"
      ]
    },
    {
      "cell_type": "code",
      "execution_count": 97,
      "metadata": {
        "id": "Oq3HV-AVJ5IZ"
      },
      "outputs": [],
      "source": [
        "def add_animal_to_zoo(zoo, animal_type, name, weight):\n",
        "    animal = None\n",
        "    if animal =='Gorilla':\n",
        "      animal = Gorilla(name,weight)\n",
        "    elif animal_type =='Raccoon':\n",
        "      animal = Raccoon(name,weight)\n",
        "    elif animal_type =='Tiger':\n",
        "      animal = Tiger(name,weight)\n",
        "    else:\n",
        "      animal = Elephant(name,weight)\n",
        "\n",
        "    zoo.append(animal)\n",
        "\n",
        "    return zoo"
      ]
    },
    {
      "cell_type": "markdown",
      "metadata": {
        "id": "dGWxFOPHJ5IZ"
      },
      "source": [
        "Great! Now, add some animals to your zoo.\n",
        "\n",
        "Create the following animals and add them to your zoo.  The names and weights are up to you.\n",
        "\n",
        "* 2 Elephants\n",
        "* 2 Raccons\n",
        "* 1 Gorilla\n",
        "* 3 Tigers"
      ]
    },
    {
      "cell_type": "code",
      "execution_count": 98,
      "metadata": {
        "id": "LIspJwDVJ5Ia",
        "outputId": "ea752ac9-1e2b-4bb8-b456-466e316d39aa",
        "colab": {
          "base_uri": "https://localhost:8080/"
        }
      },
      "outputs": [
        {
          "output_type": "execute_result",
          "data": {
            "text/plain": [
              "[<__main__.Elephant at 0x7827119b9c30>,\n",
              " <__main__.Elephant at 0x7827119bad40>,\n",
              " <__main__.Raccoon at 0x7827119bb430>,\n",
              " <__main__.Raccoon at 0x7827119ba140>,\n",
              " <__main__.Elephant at 0x7827119ba920>,\n",
              " <__main__.Tiger at 0x7827119bb2b0>,\n",
              " <__main__.Tiger at 0x7827119b8f10>,\n",
              " <__main__.Tiger at 0x7827119b9780>]"
            ]
          },
          "metadata": {},
          "execution_count": 98
        }
      ],
      "source": [
        "# Create your animals and add them to the 'zoo' in this cell!\n",
        "\n",
        "to_create = ['Elephant', 'Elephant', 'Raccoon', 'Raccoon', 'Gorilla', 'Tiger', 'Tiger', 'Tiger']\n",
        "\n",
        "zoo = []\n",
        "\n",
        "for i in to_create:\n",
        "  zoo = add_animal_to_zoo(zoo,i,'name',100)\n",
        "\n",
        "zoo"
      ]
    },
    {
      "cell_type": "markdown",
      "metadata": {
        "id": "yy3OoBeZJ5Ia"
      },
      "source": [
        "Great! Now that you have a populated zoo, you can do what the zookeeper hired you to do -- write a program that feeds the correct animals the right food at the right times!\n",
        "\n",
        "To do this, write a function called `feed_animals()`. This function should take in two arguments:\n",
        "\n",
        "* `zoo`, the zoo array containing all the animals\n",
        "* `time`, which can be `'Day'` or `'Night'`.  This should default to day if nothing is entered for `time`\n",
        "\n",
        "This function should:\n",
        "\n",
        "* Feed only the non-nocturnal animals if `time='Day'`, or only the nocturnal animals if `time='Night'`\n",
        "* Check the food type of each animal before feeding.  If the animal is a carnivore, feed it `'meat'`; otherwise, feed it `'plants'`. Feed the animals by using their `.eat()` method"
      ]
    },
    {
      "cell_type": "code",
      "execution_count": 99,
      "metadata": {
        "id": "aiFExM6wJ5Ia"
      },
      "outputs": [],
      "source": [
        "def feed_animals(zoo, time='Day'):\n",
        "    for animal in zoo:\n",
        "      if time == 'Day':\n",
        "        if animal.nocturnal== False:\n",
        "          if animal.food_type =='carnivore':\n",
        "            animal.eat('meat')\n",
        "          else:\n",
        "            animal.eat('plants')\n",
        "    else:\n",
        "        if animal.nocturnal == True:\n",
        "          if animal.food_type =='carnivore':\n",
        "            animal.eat('meat')\n",
        "          else:\n",
        "            animal.eat('plants')"
      ]
    },
    {
      "cell_type": "markdown",
      "metadata": {
        "id": "OhfnmRBzJ5Ia"
      },
      "source": [
        "Now, test out your program.  Call the function for a daytime feeding below.\n",
        "\n",
        "---\n",
        "\n"
      ]
    },
    {
      "cell_type": "code",
      "execution_count": 100,
      "metadata": {
        "id": "xzcC7g2qJ5Ib",
        "outputId": "cf933f1e-0731-49de-a986-42b42ea1c362",
        "colab": {
          "base_uri": "https://localhost:8080/"
        }
      },
      "outputs": [
        {
          "output_type": "stream",
          "name": "stdout",
          "text": [
            "name the elephant thinks plants is yummy!\n",
            "name the elephant thinks plants is yummy!\n",
            "name the elephant thinks plants is yummy!\n",
            "name the tiger thinks meat is yummy!\n"
          ]
        }
      ],
      "source": [
        "feed_animals(zoo)"
      ]
    },
    {
      "cell_type": "markdown",
      "metadata": {
        "id": "Bpm6I9dRJ5Ib"
      },
      "source": [
        "If the elephants and gorrillas were fed then things should be good!\n",
        "\n",
        "In the cell below, call `feed_animals()` again, but this time set `time='Night'`"
      ]
    },
    {
      "cell_type": "code",
      "execution_count": 101,
      "metadata": {
        "id": "Pjy_4AWeJ5Ib",
        "outputId": "c5b867be-6e9f-417e-a203-aa9c639a588f",
        "colab": {
          "base_uri": "https://localhost:8080/"
        }
      },
      "outputs": [
        {
          "output_type": "stream",
          "name": "stdout",
          "text": [
            "name the tiger thinks meat is yummy!\n"
          ]
        }
      ],
      "source": [
        "feed_animals(zoo,time='night')"
      ]
    },
    {
      "cell_type": "markdown",
      "metadata": {
        "id": "iadZ86_iJ5Ib"
      },
      "source": [
        "That's it! You've used OOP and inheritance to build a working program to help the zookeeper feed his animals with right food at the correct times!\n",
        "\n",
        "## Summary\n",
        "\n",
        "In this lab, you modeled a zoo and learned how to use inheritance to write nonredundant code, used subclasses and superclasses, and create a domain model using OOP."
      ]
    }
  ],
  "metadata": {
    "kernelspec": {
      "display_name": "Python 3",
      "language": "python",
      "name": "python3"
    },
    "language_info": {
      "codemirror_mode": {
        "name": "ipython",
        "version": 3
      },
      "file_extension": ".py",
      "mimetype": "text/x-python",
      "name": "python",
      "nbconvert_exporter": "python",
      "pygments_lexer": "ipython3",
      "version": "3.7.3"
    },
    "colab": {
      "provenance": []
    }
  },
  "nbformat": 4,
  "nbformat_minor": 0
}